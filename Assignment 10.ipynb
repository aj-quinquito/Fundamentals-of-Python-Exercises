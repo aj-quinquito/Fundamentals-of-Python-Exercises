{
 "cells": [
  {
   "cell_type": "markdown",
   "metadata": {},
   "source": [
    "Import numpy and pandas"
   ]
  },
  {
   "cell_type": "code",
   "execution_count": 1,
   "metadata": {},
   "outputs": [],
   "source": [
    "import numpy as np\n",
    "import pandas as pd"
   ]
  },
  {
   "cell_type": "markdown",
   "metadata": {},
   "source": [
    "Create a python dictionary with 3 labels and 3 numbers of your choice.\n",
    "Call it my_data."
   ]
  },
  {
   "cell_type": "code",
   "execution_count": 2,
   "metadata": {},
   "outputs": [
    {
     "name": "stdout",
     "output_type": "stream",
     "text": [
      "{'year': 1999, 'month': 1, 'day': 15}\n"
     ]
    }
   ],
   "source": [
    "my_data = {'year': 1999, 'month': 1, 'day': 15}\n",
    "print(my_data)"
   ]
  },
  {
   "cell_type": "markdown",
   "metadata": {},
   "source": [
    "Create a pandas Series from the my_data dictionary, called my_series.\n",
    "Display it."
   ]
  },
  {
   "cell_type": "code",
   "execution_count": 3,
   "metadata": {},
   "outputs": [
    {
     "name": "stdout",
     "output_type": "stream",
     "text": [
      "year     1999\n",
      "month       1\n",
      "day        15\n",
      "dtype: int64\n"
     ]
    }
   ],
   "source": [
    "my_series = pd.Series(my_data)\n",
    "print(my_series)"
   ]
  },
  {
   "cell_type": "markdown",
   "metadata": {},
   "source": [
    "Create a 5x5 array of random integers, from 0 to 100 called nums.\n",
    "Display it."
   ]
  },
  {
   "cell_type": "code",
   "execution_count": 4,
   "metadata": {},
   "outputs": [
    {
     "name": "stdout",
     "output_type": "stream",
     "text": [
      "array([[66 60 87 74 51]\n",
      " [33 28 76 44  6]\n",
      " [42 71 14 59 80]\n",
      " [79 98 12 63 81]\n",
      " [73 25 87 33 63]])\n"
     ]
    }
   ],
   "source": [
    "nums = np.random.randint(0, 100, size=(5, 5))\n",
    "print(f\"array({nums})\")"
   ]
  },
  {
   "cell_type": "markdown",
   "metadata": {},
   "source": [
    "Create a DataFrame from the nums array, called df.\n",
    "Label the columns: A,B,C,D,E\n",
    "Label the index: V,W,X,Y,Z\n",
    "Display the DataFrame."
   ]
  },
  {
   "cell_type": "code",
   "execution_count": 5,
   "metadata": {},
   "outputs": [
    {
     "name": "stdout",
     "output_type": "stream",
     "text": [
      "    A   B   C   D   E\n",
      "V  66  60  87  74  51\n",
      "W  33  28  76  44   6\n",
      "X  42  71  14  59  80\n",
      "Y  79  98  12  63  81\n",
      "Z  73  25  87  33  63\n"
     ]
    }
   ],
   "source": [
    "columns = ['A', 'B', 'C', 'D', 'E']\n",
    "index = ['V', 'W', 'X', 'Y', 'Z']\n",
    "\n",
    "data_frame = pd.DataFrame(nums, columns=columns, index=index)\n",
    "\n",
    "print(data_frame)"
   ]
  },
  {
   "cell_type": "markdown",
   "metadata": {},
   "source": [
    "Display columns B and D."
   ]
  },
  {
   "cell_type": "code",
   "execution_count": 6,
   "metadata": {},
   "outputs": [
    {
     "name": "stdout",
     "output_type": "stream",
     "text": [
      "    B   D\n",
      "V  60  74\n",
      "W  28  44\n",
      "X  71  59\n",
      "Y  98  63\n",
      "Z  25  33\n"
     ]
    }
   ],
   "source": [
    "print(data_frame[['B', 'D']])"
   ]
  },
  {
   "cell_type": "markdown",
   "metadata": {},
   "source": [
    "Display rows X and Y."
   ]
  },
  {
   "cell_type": "code",
   "execution_count": 7,
   "metadata": {},
   "outputs": [
    {
     "name": "stdout",
     "output_type": "stream",
     "text": [
      "    A   B   C   D   E\n",
      "X  42  71  14  59  80\n",
      "Y  79  98  12  63  81\n"
     ]
    }
   ],
   "source": [
    "print(data_frame.loc[['X', 'Y']])"
   ]
  },
  {
   "cell_type": "markdown",
   "metadata": {},
   "source": [
    "Display element YC."
   ]
  },
  {
   "cell_type": "code",
   "execution_count": 8,
   "metadata": {},
   "outputs": [
    {
     "name": "stdout",
     "output_type": "stream",
     "text": [
      "12\n"
     ]
    }
   ],
   "source": [
    "print(data_frame.loc['Y', 'C'])"
   ]
  },
  {
   "cell_type": "markdown",
   "metadata": {},
   "source": [
    "Display rows X and Y, and columns B and D."
   ]
  },
  {
   "cell_type": "code",
   "execution_count": 9,
   "metadata": {},
   "outputs": [
    {
     "name": "stdout",
     "output_type": "stream",
     "text": [
      "    B   D\n",
      "X  71  59\n",
      "Y  98  63\n"
     ]
    }
   ],
   "source": [
    "print(data_frame.loc[['X', 'Y'], ['B', 'D']])"
   ]
  },
  {
   "cell_type": "markdown",
   "metadata": {},
   "source": [
    "Display the rows where the number in the 'A' column is greater than 50."
   ]
  },
  {
   "cell_type": "code",
   "execution_count": 10,
   "metadata": {},
   "outputs": [
    {
     "name": "stdout",
     "output_type": "stream",
     "text": [
      "    A   B   C   D   E\n",
      "V  66  60  87  74  51\n",
      "Y  79  98  12  63  81\n",
      "Z  73  25  87  33  63\n"
     ]
    }
   ],
   "source": [
    "filtered_rows = data_frame[data_frame['A'] > 50]\n",
    "print(filtered_rows)"
   ]
  },
  {
   "cell_type": "markdown",
   "metadata": {},
   "source": [
    "Add a new column F, which is column A x column B.\n",
    "Display the resulting DataFrame."
   ]
  },
  {
   "cell_type": "code",
   "execution_count": 11,
   "metadata": {},
   "outputs": [
    {
     "name": "stdout",
     "output_type": "stream",
     "text": [
      "    A   B   C   D   E     F\n",
      "V  66  60  87  74  51  3960\n",
      "W  33  28  76  44   6   924\n",
      "X  42  71  14  59  80  2982\n",
      "Y  79  98  12  63  81  7742\n",
      "Z  73  25  87  33  63  1825\n"
     ]
    }
   ],
   "source": [
    "data_frame['F'] = data_frame['A'] * data_frame['B']\n",
    "print(data_frame)"
   ]
  },
  {
   "cell_type": "markdown",
   "metadata": {},
   "source": [
    "Permanently drop row V and column F.\n",
    "Display the resulting DataFrame."
   ]
  },
  {
   "cell_type": "code",
   "execution_count": 12,
   "metadata": {},
   "outputs": [
    {
     "name": "stdout",
     "output_type": "stream",
     "text": [
      "    A   B   C   D   E\n",
      "W  33  28  76  44   6\n",
      "X  42  71  14  59  80\n",
      "Y  79  98  12  63  81\n",
      "Z  73  25  87  33  63\n"
     ]
    }
   ],
   "source": [
    "data_frame.drop(['V'], inplace=True)\n",
    "data_frame.drop(['F'], axis=1, inplace=True)\n",
    "print(data_frame)"
   ]
  },
  {
   "cell_type": "markdown",
   "metadata": {},
   "source": [
    "Save the dataframe in a file called 'data10.csv'"
   ]
  },
  {
   "cell_type": "code",
   "execution_count": 13,
   "metadata": {},
   "outputs": [],
   "source": [
    "data_frame.to_csv('data10.csv', index_label='Index')"
   ]
  }
 ],
 "metadata": {
  "kernelspec": {
   "display_name": "Python 3 (ipykernel)",
   "language": "python",
   "name": "python3"
  },
  "language_info": {
   "codemirror_mode": {
    "name": "ipython",
    "version": 3
   },
   "file_extension": ".py",
   "mimetype": "text/x-python",
   "name": "python",
   "nbconvert_exporter": "python",
   "pygments_lexer": "ipython3",
   "version": "3.7.16"
  }
 },
 "nbformat": 4,
 "nbformat_minor": 4
}
