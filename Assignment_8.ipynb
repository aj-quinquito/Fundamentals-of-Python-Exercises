{
 "cells": [
  {
   "cell_type": "markdown",
   "id": "f28914ef-ae71-410a-ba13-f14b3004a6b6",
   "metadata": {},
   "source": [
    "# AJ's Jupyter Notebook\n",
    "\n",
    "__Author:__ **Mariah Anjannelle A. Quinquito**\n",
    "\n",
    "__Date:__ **February 26, 2024**\n",
    "\n",
    "_Assignment Number:_ *Assignment 8*\n",
    "\n",
    "_Course Name:_ *Introduction to Python Programming*\n",
    "\n",
    "The code defines the lambda function to calculate the square root of the sum of squares of three input values (x, y, and z).It then takes user input for these values, applies the lambda function, and prints the result. The code ensures the user enters valid numeric inputs and repeats the process until successful.\n",
    "\n",
    "[Enjoy the catchy and upbeat dance of Caramella Girls in their iconic \"Caramelldansen\" music video!](https://www.youtube.com/watch?v=A67ZkAd1wmI)\n",
    "\n",
    "![Python Image](https://qph.cf2.quoracdn.net/main-qimg-4472b6229cb75bf66ab531f3ebd4f975-lq)"
   ]
  },
  {
   "cell_type": "code",
   "execution_count": 1,
   "id": "727e665f-0134-4bf7-a255-453d52ffd00a",
   "metadata": {},
   "outputs": [],
   "source": [
    "f_result = lambda x, y, z: (x**2 + y**2 + z**2)**0.5\n",
    "\n",
    "#def f(x, y, z):\n",
    "#    return (x**2 + y**2 + z**2)**0.5"
   ]
  },
  {
   "cell_type": "code",
   "execution_count": 2,
   "id": "a27ac1cd-62d6-443e-97e5-7363cf95c3f1",
   "metadata": {},
   "outputs": [
    {
     "name": "stdin",
     "output_type": "stream",
     "text": [
      "Enter the value for x:  asd\n"
     ]
    },
    {
     "name": "stdout",
     "output_type": "stream",
     "text": [
      "Invalid input. Please enter valid numerical values.\n"
     ]
    },
    {
     "name": "stdin",
     "output_type": "stream",
     "text": [
      "Enter the value for x:  -46\n",
      "Enter the value for y:  2.3\n",
      "Enter the value for z:  56.\n"
     ]
    },
    {
     "name": "stdout",
     "output_type": "stream",
     "text": [
      "The result of f(x, y, z) is: 72.5071720590453\n"
     ]
    }
   ],
   "source": [
    "while True:\n",
    "    try:\n",
    "        # Get user input for three numbers\n",
    "        x = float(input(\"Enter the value for x: \"))\n",
    "        y = float(input(\"Enter the value for y: \"))\n",
    "        z = float(input(\"Enter the value for z: \"))\n",
    "        \n",
    "        # Calculate and display the result\n",
    "        result = f_result(x, y, z)\n",
    "        print(f\"The result of f(x, y, z) is: {result}\")\n",
    "        \n",
    "        break\n",
    "    \n",
    "    except ValueError:\n",
    "        print(\"Invalid input. Please enter valid numerical values.\")"
   ]
  },
  {
   "cell_type": "code",
   "execution_count": null,
   "id": "b23087af-b4ee-455c-ad65-4948e778ff9e",
   "metadata": {},
   "outputs": [],
   "source": []
  }
 ],
 "metadata": {
  "kernelspec": {
   "display_name": "Python 3 (ipykernel)",
   "language": "python",
   "name": "python3"
  },
  "language_info": {
   "codemirror_mode": {
    "name": "ipython",
    "version": 3
   },
   "file_extension": ".py",
   "mimetype": "text/x-python",
   "name": "python",
   "nbconvert_exporter": "python",
   "pygments_lexer": "ipython3",
   "version": "3.7.16"
  }
 },
 "nbformat": 4,
 "nbformat_minor": 5
}
