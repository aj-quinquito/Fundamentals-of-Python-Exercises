{
 "cells": [
  {
   "cell_type": "markdown",
   "metadata": {},
   "source": [
    "Import the numpy module"
   ]
  },
  {
   "cell_type": "code",
   "execution_count": 1,
   "metadata": {},
   "outputs": [],
   "source": [
    "import numpy as np"
   ]
  },
  {
   "cell_type": "markdown",
   "metadata": {},
   "source": [
    "Create a 1d numpy array called arr1 that looks like the one below. Display it."
   ]
  },
  {
   "cell_type": "code",
   "execution_count": 2,
   "metadata": {},
   "outputs": [],
   "source": [
    "arr1 = np.array([3, 6, 9, 12, 15])"
   ]
  },
  {
   "cell_type": "code",
   "execution_count": 3,
   "metadata": {},
   "outputs": [
    {
     "name": "stdout",
     "output_type": "stream",
     "text": [
      "array([ 3  6  9 12 15])\n"
     ]
    }
   ],
   "source": [
    "print(f\"array({arr1})\")"
   ]
  },
  {
   "cell_type": "markdown",
   "metadata": {},
   "source": [
    "Print out the 3rd element of the array."
   ]
  },
  {
   "cell_type": "code",
   "execution_count": 4,
   "metadata": {},
   "outputs": [
    {
     "name": "stdout",
     "output_type": "stream",
     "text": [
      "9\n"
     ]
    }
   ],
   "source": [
    "third_element = arr1[2]\n",
    "print(third_element)"
   ]
  },
  {
   "cell_type": "markdown",
   "metadata": {},
   "source": [
    "Create a 2d numpy array called arr2 that looks like the one below. Display it."
   ]
  },
  {
   "cell_type": "code",
   "execution_count": 5,
   "metadata": {},
   "outputs": [],
   "source": [
    "arr2 = np.array([[2, 4, 6], [3, 6, 9], [4, 8, 12]])"
   ]
  },
  {
   "cell_type": "code",
   "execution_count": 6,
   "metadata": {},
   "outputs": [
    {
     "name": "stdout",
     "output_type": "stream",
     "text": [
      "array([[ 2  4  6]\n",
      " [ 3  6  9]\n",
      " [ 4  8 12]])\n"
     ]
    }
   ],
   "source": [
    "print(f\"array({arr2})\")"
   ]
  },
  {
   "cell_type": "markdown",
   "metadata": {},
   "source": [
    "Print out the element at row=3,col=2."
   ]
  },
  {
   "cell_type": "code",
   "execution_count": 7,
   "metadata": {},
   "outputs": [
    {
     "name": "stdout",
     "output_type": "stream",
     "text": [
      "8\n"
     ]
    }
   ],
   "source": [
    "element_at_3_2 = arr2[2, 1]\n",
    "print(element_at_3_2)"
   ]
  },
  {
   "cell_type": "markdown",
   "metadata": {},
   "source": [
    "Create an array that goes from 0 to 100 with step=3. Display it."
   ]
  },
  {
   "cell_type": "code",
   "execution_count": 8,
   "metadata": {},
   "outputs": [],
   "source": [
    "arr3 = np.arange(0, 101, step=3)"
   ]
  },
  {
   "cell_type": "code",
   "execution_count": 9,
   "metadata": {},
   "outputs": [
    {
     "name": "stdout",
     "output_type": "stream",
     "text": [
      "array([ 0  3  6  9 12 15 18 21 24 27 30 33 36 39 42 45 48 51 54 57 60 63 66 69\n",
      " 72 75 78 81 84 87 90 93 96 99])\n"
     ]
    }
   ],
   "source": [
    "print(f\"array({arr3})\")"
   ]
  },
  {
   "cell_type": "markdown",
   "metadata": {},
   "source": [
    "Create a 10x5 2d array filled with zeroes. Display it."
   ]
  },
  {
   "cell_type": "code",
   "execution_count": 10,
   "metadata": {},
   "outputs": [],
   "source": [
    "zero_array = np.zeros((10, 5))"
   ]
  },
  {
   "cell_type": "code",
   "execution_count": 11,
   "metadata": {},
   "outputs": [
    {
     "name": "stdout",
     "output_type": "stream",
     "text": [
      "array([[0. 0. 0. 0. 0.]\n",
      " [0. 0. 0. 0. 0.]\n",
      " [0. 0. 0. 0. 0.]\n",
      " [0. 0. 0. 0. 0.]\n",
      " [0. 0. 0. 0. 0.]\n",
      " [0. 0. 0. 0. 0.]\n",
      " [0. 0. 0. 0. 0.]\n",
      " [0. 0. 0. 0. 0.]\n",
      " [0. 0. 0. 0. 0.]\n",
      " [0. 0. 0. 0. 0.]])\n"
     ]
    }
   ],
   "source": [
    "print(f\"array({zero_array})\")"
   ]
  },
  {
   "cell_type": "markdown",
   "metadata": {},
   "source": [
    "Create an array called lin1d, that has 100 data points spaced between 57 and 108. Display it."
   ]
  },
  {
   "cell_type": "code",
   "execution_count": 12,
   "metadata": {},
   "outputs": [],
   "source": [
    "lin1d = np.linspace(57, 108, 100)"
   ]
  },
  {
   "cell_type": "code",
   "execution_count": 13,
   "metadata": {},
   "outputs": [
    {
     "name": "stdout",
     "output_type": "stream",
     "text": [
      "array([ 57.          57.51515152  58.03030303  58.54545455  59.06060606\n",
      "  59.57575758  60.09090909  60.60606061  61.12121212  61.63636364\n",
      "  62.15151515  62.66666667  63.18181818  63.6969697   64.21212121\n",
      "  64.72727273  65.24242424  65.75757576  66.27272727  66.78787879\n",
      "  67.3030303   67.81818182  68.33333333  68.84848485  69.36363636\n",
      "  69.87878788  70.39393939  70.90909091  71.42424242  71.93939394\n",
      "  72.45454545  72.96969697  73.48484848  74.          74.51515152\n",
      "  75.03030303  75.54545455  76.06060606  76.57575758  77.09090909\n",
      "  77.60606061  78.12121212  78.63636364  79.15151515  79.66666667\n",
      "  80.18181818  80.6969697   81.21212121  81.72727273  82.24242424\n",
      "  82.75757576  83.27272727  83.78787879  84.3030303   84.81818182\n",
      "  85.33333333  85.84848485  86.36363636  86.87878788  87.39393939\n",
      "  87.90909091  88.42424242  88.93939394  89.45454545  89.96969697\n",
      "  90.48484848  91.          91.51515152  92.03030303  92.54545455\n",
      "  93.06060606  93.57575758  94.09090909  94.60606061  95.12121212\n",
      "  95.63636364  96.15151515  96.66666667  97.18181818  97.6969697\n",
      "  98.21212121  98.72727273  99.24242424  99.75757576 100.27272727\n",
      " 100.78787879 101.3030303  101.81818182 102.33333333 102.84848485\n",
      " 103.36363636 103.87878788 104.39393939 104.90909091 105.42424242\n",
      " 105.93939394 106.45454545 106.96969697 107.48484848 108.        ])\n"
     ]
    }
   ],
   "source": [
    "print(f\"array({lin1d})\")"
   ]
  },
  {
   "cell_type": "markdown",
   "metadata": {},
   "source": [
    "Reshape lin1d to be 10x10 and call it lin2d. Display it."
   ]
  },
  {
   "cell_type": "code",
   "execution_count": 14,
   "metadata": {},
   "outputs": [],
   "source": [
    "lin2d = np.reshape(lin1d, (10, 10))"
   ]
  },
  {
   "cell_type": "code",
   "execution_count": 15,
   "metadata": {},
   "outputs": [
    {
     "name": "stdout",
     "output_type": "stream",
     "text": [
      "array([[ 57.          57.51515152  58.03030303  58.54545455  59.06060606\n",
      "   59.57575758  60.09090909  60.60606061  61.12121212  61.63636364]\n",
      " [ 62.15151515  62.66666667  63.18181818  63.6969697   64.21212121\n",
      "   64.72727273  65.24242424  65.75757576  66.27272727  66.78787879]\n",
      " [ 67.3030303   67.81818182  68.33333333  68.84848485  69.36363636\n",
      "   69.87878788  70.39393939  70.90909091  71.42424242  71.93939394]\n",
      " [ 72.45454545  72.96969697  73.48484848  74.          74.51515152\n",
      "   75.03030303  75.54545455  76.06060606  76.57575758  77.09090909]\n",
      " [ 77.60606061  78.12121212  78.63636364  79.15151515  79.66666667\n",
      "   80.18181818  80.6969697   81.21212121  81.72727273  82.24242424]\n",
      " [ 82.75757576  83.27272727  83.78787879  84.3030303   84.81818182\n",
      "   85.33333333  85.84848485  86.36363636  86.87878788  87.39393939]\n",
      " [ 87.90909091  88.42424242  88.93939394  89.45454545  89.96969697\n",
      "   90.48484848  91.          91.51515152  92.03030303  92.54545455]\n",
      " [ 93.06060606  93.57575758  94.09090909  94.60606061  95.12121212\n",
      "   95.63636364  96.15151515  96.66666667  97.18181818  97.6969697 ]\n",
      " [ 98.21212121  98.72727273  99.24242424  99.75757576 100.27272727\n",
      "  100.78787879 101.3030303  101.81818182 102.33333333 102.84848485]\n",
      " [103.36363636 103.87878788 104.39393939 104.90909091 105.42424242\n",
      "  105.93939394 106.45454545 106.96969697 107.48484848 108.        ]])\n"
     ]
    }
   ],
   "source": [
    "print(f\"array({lin2d})\")"
   ]
  },
  {
   "cell_type": "markdown",
   "metadata": {},
   "source": [
    "Print out the shape of lin1d and lin2d."
   ]
  },
  {
   "cell_type": "code",
   "execution_count": 16,
   "metadata": {},
   "outputs": [
    {
     "name": "stdout",
     "output_type": "stream",
     "text": [
      "lin1d: (100,)\n",
      "lin2d: (10, 10)\n"
     ]
    }
   ],
   "source": [
    "print(f\"lin1d: {lin1d.shape}\")\n",
    "print(f\"lin2d: {lin2d.shape}\")"
   ]
  },
  {
   "cell_type": "markdown",
   "metadata": {},
   "source": [
    "Generate a 5x5 array of random numbers called nums. Display it."
   ]
  },
  {
   "cell_type": "code",
   "execution_count": 17,
   "metadata": {},
   "outputs": [],
   "source": [
    "nums = np.random.random((5, 5))"
   ]
  },
  {
   "cell_type": "code",
   "execution_count": 18,
   "metadata": {},
   "outputs": [
    {
     "name": "stdout",
     "output_type": "stream",
     "text": [
      "array([[0.10578292 0.69216266 0.74585465 0.8704437  0.25318574]\n",
      " [0.93070865 0.44867332 0.60812421 0.32904177 0.30089064]\n",
      " [0.59821805 0.66863621 0.62371899 0.49506583 0.13187326]\n",
      " [0.56308794 0.80649058 0.46855868 0.83870732 0.93240819]\n",
      " [0.22664639 0.44405262 0.49654954 0.90564242 0.66649206]])\n"
     ]
    }
   ],
   "source": [
    "print(f\"array({nums})\")"
   ]
  },
  {
   "cell_type": "markdown",
   "metadata": {},
   "source": [
    "Print out the min, max and mean of the nums array."
   ]
  },
  {
   "cell_type": "code",
   "execution_count": 19,
   "metadata": {},
   "outputs": [
    {
     "name": "stdout",
     "output_type": "stream",
     "text": [
      "Min: 0.10578292265375977\n",
      "Max: 0.932408188156123\n",
      "Mean: 0.566040653445069\n"
     ]
    }
   ],
   "source": [
    "print(f\"Min: {np.min(nums)}\")\n",
    "print(f\"Max: {np.max(nums)}\")\n",
    "print(f\"Mean: {np.mean(nums)}\")"
   ]
  },
  {
   "cell_type": "markdown",
   "metadata": {},
   "source": [
    "Multiple the entire array nums x2 and store it back in nums. Display the result."
   ]
  },
  {
   "cell_type": "code",
   "execution_count": 20,
   "metadata": {},
   "outputs": [],
   "source": [
    "nums *= 2"
   ]
  },
  {
   "cell_type": "code",
   "execution_count": 21,
   "metadata": {},
   "outputs": [
    {
     "name": "stdout",
     "output_type": "stream",
     "text": [
      "array([[0.21156585 1.38432533 1.4917093  1.7408874  0.50637148]\n",
      " [1.86141729 0.89734663 1.21624843 0.65808355 0.60178127]\n",
      " [1.19643611 1.33727242 1.24743798 0.99013167 0.26374652]\n",
      " [1.12617588 1.61298115 0.93711737 1.67741464 1.86481638]\n",
      " [0.45329279 0.88810523 0.99309907 1.81128484 1.33298412]])\n"
     ]
    }
   ],
   "source": [
    "print(f\"array({nums})\")"
   ]
  },
  {
   "cell_type": "markdown",
   "metadata": {},
   "source": [
    "Select rows 1 to 2 and cols 2 to 3 and display the result."
   ]
  },
  {
   "cell_type": "code",
   "execution_count": 22,
   "metadata": {},
   "outputs": [],
   "source": [
    "selection = nums[1:3, 2:4]"
   ]
  },
  {
   "cell_type": "code",
   "execution_count": 23,
   "metadata": {},
   "outputs": [
    {
     "name": "stdout",
     "output_type": "stream",
     "text": [
      "array([[1.21624843 0.65808355]\n",
      " [1.24743798 0.99013167]])\n"
     ]
    }
   ],
   "source": [
    "print(f\"array({selection})\")"
   ]
  },
  {
   "cell_type": "markdown",
   "metadata": {},
   "source": [
    "Modify that same selection by multiplying it x10, then display the new nums array."
   ]
  },
  {
   "cell_type": "code",
   "execution_count": 24,
   "metadata": {},
   "outputs": [],
   "source": [
    "selection *= 10"
   ]
  },
  {
   "cell_type": "code",
   "execution_count": 25,
   "metadata": {},
   "outputs": [
    {
     "name": "stdout",
     "output_type": "stream",
     "text": [
      "array([[ 0.21156585  1.38432533  1.4917093   1.7408874   0.50637148]\n",
      " [ 1.86141729  0.89734663 12.16248429  6.58083547  0.60178127]\n",
      " [ 1.19643611  1.33727242 12.47437976  9.90131669  0.26374652]\n",
      " [ 1.12617588  1.61298115  0.93711737  1.67741464  1.86481638]\n",
      " [ 0.45329279  0.88810523  0.99309907  1.81128484  1.33298412]])\n"
     ]
    }
   ],
   "source": [
    "print(f\"array({nums})\")"
   ]
  },
  {
   "cell_type": "markdown",
   "metadata": {},
   "source": [
    "Load 'data9.npy' into a numpy array named 'data'. Display the array."
   ]
  },
  {
   "cell_type": "code",
   "execution_count": 26,
   "metadata": {},
   "outputs": [],
   "source": [
    "data = np.load('data9.npy')"
   ]
  },
  {
   "cell_type": "code",
   "execution_count": 27,
   "metadata": {},
   "outputs": [
    {
     "name": "stdout",
     "output_type": "stream",
     "text": [
      "array([[0.07301979 0.16473597 0.81951432 0.99818186]\n",
      " [0.62804768 0.34424393 0.58308361 0.09436134]\n",
      " [0.03345196 0.28866977 0.36343501 0.64198102]\n",
      " [0.74852967 0.08606404 0.10232671 0.86568091]\n",
      " [0.42570996 0.55892485 0.7516009  0.3855254 ]\n",
      " [0.06229575 0.95342168 0.89634407 0.43225468]\n",
      " [0.56500264 0.93069069 0.90221041 0.178963  ]\n",
      " [0.84182479 0.36880305 0.26415286 0.04403728]\n",
      " [0.78829453 0.94777048 0.14770364 0.58350887]\n",
      " [0.47231189 0.00532193 0.91274993 0.86889732]])\n"
     ]
    }
   ],
   "source": [
    "print(f\"array({data})\")"
   ]
  },
  {
   "cell_type": "markdown",
   "metadata": {},
   "source": [
    "Find and display the *index value* of the largest number in each *row* of data. "
   ]
  },
  {
   "cell_type": "code",
   "execution_count": 28,
   "metadata": {},
   "outputs": [],
   "source": [
    "max_value = np.argmax(data, axis=1)"
   ]
  },
  {
   "cell_type": "code",
   "execution_count": 29,
   "metadata": {},
   "outputs": [
    {
     "name": "stdout",
     "output_type": "stream",
     "text": [
      "[3 0 3 3 2 1 1 0 1 2]\n"
     ]
    }
   ],
   "source": [
    "print(max_value)"
   ]
  },
  {
   "cell_type": "markdown",
   "metadata": {},
   "source": [
    "Create a four-dimensional column vector with random numbers between 0 and 1, sampled from the uniform distribution. Name it $w$."
   ]
  },
  {
   "cell_type": "code",
   "execution_count": 30,
   "metadata": {},
   "outputs": [],
   "source": [
    "w = np.random.rand(4, 1)"
   ]
  },
  {
   "cell_type": "code",
   "execution_count": 31,
   "metadata": {},
   "outputs": [
    {
     "name": "stdout",
     "output_type": "stream",
     "text": [
      "[[0.30611616]\n",
      " [0.10729456]\n",
      " [0.45286491]\n",
      " [0.65587782]]\n"
     ]
    }
   ],
   "source": [
    "print(w)"
   ]
  },
  {
   "cell_type": "markdown",
   "metadata": {},
   "source": [
    "Calculate the dot products between $w$ and each row of data."
   ]
  },
  {
   "cell_type": "code",
   "execution_count": 32,
   "metadata": {},
   "outputs": [],
   "source": [
    "dot_products = np.dot(data, w)"
   ]
  },
  {
   "cell_type": "code",
   "execution_count": 33,
   "metadata": {},
   "outputs": [
    {
     "name": "stdout",
     "output_type": "stream",
     "text": [
      "[[1.06584243]\n",
      " [0.55513866]\n",
      " [0.62686096]\n",
      " [0.85249231]\n",
      " [0.78351752]\n",
      " [0.81079573]\n",
      " [0.79877178]\n",
      " [0.44577537]\n",
      " [0.79260064]\n",
      " [1.12839621]]\n"
     ]
    }
   ],
   "source": [
    "print(dot_products)"
   ]
  },
  {
   "cell_type": "markdown",
   "metadata": {},
   "source": [
    "Create a numpy array $u = (1, -1, 0)$ and a numpy array $v = (1, 0, 1)$. Calculate and display the cosine of the angle between them."
   ]
  },
  {
   "cell_type": "code",
   "execution_count": 34,
   "metadata": {},
   "outputs": [],
   "source": [
    "u = np.array([1, -1, 0])\n",
    "v = np.array([1, 0, 1])\n",
    "\n",
    "cosine_angle = np.dot(u, v) / (np.linalg.norm(u) * np.linalg.norm(v))"
   ]
  },
  {
   "cell_type": "code",
   "execution_count": 35,
   "metadata": {},
   "outputs": [
    {
     "name": "stdout",
     "output_type": "stream",
     "text": [
      "0.4999999999999999\n"
     ]
    }
   ],
   "source": [
    "print(cosine_angle)"
   ]
  },
  {
   "cell_type": "code",
   "execution_count": null,
   "metadata": {},
   "outputs": [],
   "source": []
  }
 ],
 "metadata": {
  "kernelspec": {
   "display_name": "Python 3 (ipykernel)",
   "language": "python",
   "name": "python3"
  },
  "language_info": {
   "codemirror_mode": {
    "name": "ipython",
    "version": 3
   },
   "file_extension": ".py",
   "mimetype": "text/x-python",
   "name": "python",
   "nbconvert_exporter": "python",
   "pygments_lexer": "ipython3",
   "version": "3.7.16"
  }
 },
 "nbformat": 4,
 "nbformat_minor": 4
}
